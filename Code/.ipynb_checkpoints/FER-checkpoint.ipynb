{
 "cells": [
  {
   "cell_type": "markdown",
   "metadata": {
    "id": "Ff6tv3LDVQJs"
   },
   "source": [
    "import needed libraries"
   ]
  },
  {
   "cell_type": "code",
   "execution_count": 2,
   "metadata": {
    "id": "Vip2cg8LmfLK"
   },
   "outputs": [],
   "source": [
    "from tensorflow.keras.preprocessing.image import ImageDataGenerator as dgen\n",
    "from tensorflow.keras.callbacks import ModelCheckpoint as mdlCheck\n",
    "from tensorflow.keras.layers import Dense,Convolution2D,Flatten,MaxPooling2D,Dropout,BatchNormalization\n",
    "from tensorflow.keras.models import Sequential\n",
    "from tensorflow.keras.optimizers import Adam\n",
    "import matplotlib.pyplot as plt"
   ]
  },
  {
   "cell_type": "code",
   "execution_count": 4,
   "metadata": {
    "id": "EJveDmCUotKu"
   },
   "outputs": [],
   "source": [
    "train_path = 'train'\n",
    "test_path = 'test'"
   ]
  },
  {
   "cell_type": "markdown",
   "metadata": {
    "id": "JihgjpeeCg1q"
   },
   "source": [
    "data preprocessing and augmentation"
   ]
  },
  {
   "cell_type": "code",
   "execution_count": 5,
   "metadata": {
    "id": "oZVqqQ9Op6l3"
   },
   "outputs": [],
   "source": [
    "train_dgen = dgen(\n",
    "\n",
    "    rescale = 1./255,\n",
    "    rotation_range = 30,\n",
    "    width_shift_range  = 0.2,\n",
    "    height_shift_range = 0.2,\n",
    "    zoom_range = 0.2,\n",
    "    horizontal_flip = True,\n",
    "    validation_split = 0.2,\n",
    "\n",
    ")\n",
    "\n",
    "validation_dgen = dgen(\n",
    "    rescale = 1./255,\n",
    "    validation_split = 0.2\n",
    ")\n",
    "\n",
    "test_dgen = dgen(\n",
    "    rescale = 1./255,\n",
    ")"
   ]
  },
  {
   "cell_type": "code",
   "execution_count": 6,
   "metadata": {
    "colab": {
     "base_uri": "https://localhost:8080/"
    },
    "id": "SZRnxKhhvZUw",
    "outputId": "a5bcd288-9db1-4528-b22e-fdd28199eaef"
   },
   "outputs": [
    {
     "name": "stdout",
     "output_type": "stream",
     "text": [
      "Found 22968 images belonging to 7 classes.\n",
      "Found 5741 images belonging to 7 classes.\n",
      "Found 7178 images belonging to 7 classes.\n"
     ]
    }
   ],
   "source": [
    "train_generator = train_dgen.flow_from_directory(\n",
    "    directory = train_path,\n",
    "    shuffle=True,\n",
    "    target_size = (48,48),\n",
    "    batch_size = 50,\n",
    "    color_mode = 'grayscale',\n",
    "    class_mode = 'categorical',\n",
    "    subset = 'training'\n",
    ")\n",
    "\n",
    "valid_generator = validation_dgen.flow_from_directory(\n",
    "    directory  = train_path,\n",
    "    shuffle=True,\n",
    "    target_size = (48,48),\n",
    "    color_mode = 'grayscale',\n",
    "    class_mode = 'categorical',\n",
    "    batch_size = 50,\n",
    "    subset = 'validation'\n",
    ")\n",
    "\n",
    "test_generator = test_dgen.flow_from_directory(\n",
    "    directory  = test_path,\n",
    "    target_size = (48,48),\n",
    "    color_mode = 'grayscale',\n",
    "    class_mode = 'categorical',\n",
    "    batch_size = 32,\n",
    ")"
   ]
  },
  {
   "cell_type": "markdown",
   "metadata": {
    "id": "tIRyJxXIVbCo"
   },
   "source": [
    "creating our model"
   ]
  },
  {
   "cell_type": "code",
   "execution_count": 7,
   "metadata": {
    "id": "8ft1aeepFyZ1"
   },
   "outputs": [],
   "source": [
    "model = Sequential()\n",
    "model.add(Convolution2D(32,kernel_size=(3,3),strides=2,activation='relu',input_shape=(48,48,1)))\n",
    "model.add(BatchNormalization())\n",
    "model.add(Convolution2D(64,kernel_size=(3,3),strides=1,activation='relu',padding = 'same'))\n",
    "model.add(MaxPooling2D(pool_size=(2,2)))\n",
    "model.add(BatchNormalization())\n",
    "model.add(Convolution2D(128,kernel_size=(3,3),strides=1,activation='relu'))\n",
    "model.add(BatchNormalization())\n",
    "model.add(Convolution2D(128,kernel_size=(3,3),strides=1,activation='relu',padding = 'same'))\n",
    "model.add(MaxPooling2D(pool_size=(2,2)))\n",
    "model.add(BatchNormalization())\n",
    "model.add(Convolution2D(256,kernel_size=(3,3),strides=1,activation='relu'))\n",
    "model.add(BatchNormalization())\n",
    "model.add(Convolution2D(512,kernel_size=(3,3),strides=1,activation='relu',padding = 'same'))#\n",
    "model.add(MaxPooling2D(pool_size=(2,2)))\n",
    "model.add(Dropout(0.2))\n",
    "model.add(Flatten())\n",
    "model.add(BatchNormalization())\n",
    "model.add(Dense(700,activation='relu'))\n",
    "model.add(Dense(350,activation='relu'))\n",
    "model.add(Dense(70,activation='relu'))\n",
    "model.add(Dense(7,activation='softmax'))"
   ]
  },
  {
   "cell_type": "markdown",
   "metadata": {
    "id": "7X9vyL5zVke0"
   },
   "source": [
    "**training**"
   ]
  },
  {
   "cell_type": "code",
   "execution_count": 8,
   "metadata": {
    "id": "4D692IRI6-SA"
   },
   "outputs": [],
   "source": [
    "model.compile(\n",
    "    optimizer = Adam(learning_rate=0.001) ,\n",
    "    loss = 'categorical_crossentropy',\n",
    "    metrics = ['accuracy']\n",
    ")"
   ]
  },
  {
   "cell_type": "code",
   "execution_count": 9,
   "metadata": {
    "id": "MVAB0IoT7-Y0"
   },
   "outputs": [],
   "source": [
    "check = mdlCheck(\n",
    "    filepath = 'modle_wheights.h5',\n",
    "    monitor = 'val_accuarcy',\n",
    "    save_best_only = True\n",
    ")"
   ]
  },
  {
   "cell_type": "code",
   "execution_count": 10,
   "metadata": {
    "colab": {
     "base_uri": "https://localhost:8080/"
    },
    "id": "W4Z6t_SI9NcL",
    "outputId": "856d453c-96d5-4309-dcb0-419a1bf4245c"
   },
   "outputs": [
    {
     "metadata": {
      "tags": null
     },
     "name": "stdout",
     "output_type": "stream",
     "text": [
      "Epoch 1/50\n",
      "460/460 [==============================] - ETA: 0s - loss: 1.7810 - accuracy: 0.2626"
     ]
    },
    {
     "metadata": {
      "tags": null
     },
     "name": "stderr",
     "output_type": "stream",
     "text": [
      "WARNING:tensorflow:Can save best model only with val_accuarcy available, skipping.\n"
     ]
    },
    {
     "metadata": {
      "tags": null
     },
     "name": "stdout",
     "output_type": "stream",
     "text": [
      "460/460 [==============================] - 36s 51ms/step - loss: 1.7810 - accuracy: 0.2626 - val_loss: 1.8365 - val_accuracy: 0.2517\n",
      "Epoch 2/50\n",
      "459/460 [============================>.] - ETA: 0s - loss: 1.6487 - accuracy: 0.3436"
     ]
    },
    {
     "metadata": {
      "tags": null
     },
     "name": "stderr",
     "output_type": "stream",
     "text": [
      "WARNING:tensorflow:Can save best model only with val_accuarcy available, skipping.\n"
     ]
    },
    {
     "metadata": {
      "tags": null
     },
     "name": "stdout",
     "output_type": "stream",
     "text": [
      "460/460 [==============================] - 22s 48ms/step - loss: 1.6485 - accuracy: 0.3437 - val_loss: 1.6812 - val_accuracy: 0.3752\n",
      "Epoch 3/50\n",
      "460/460 [==============================] - ETA: 0s - loss: 1.5352 - accuracy: 0.4005"
     ]
    },
    {
     "metadata": {
      "tags": null
     },
     "name": "stderr",
     "output_type": "stream",
     "text": [
      "WARNING:tensorflow:Can save best model only with val_accuarcy available, skipping.\n"
     ]
    },
    {
     "metadata": {
      "tags": null
     },
     "name": "stdout",
     "output_type": "stream",
     "text": [
      "460/460 [==============================] - 22s 49ms/step - loss: 1.5352 - accuracy: 0.4005 - val_loss: 1.5562 - val_accuracy: 0.3963\n",
      "Epoch 4/50\n",
      "460/460 [==============================] - ETA: 0s - loss: 1.4407 - accuracy: 0.4414"
     ]
    },
    {
     "metadata": {
      "tags": null
     },
     "name": "stderr",
     "output_type": "stream",
     "text": [
      "WARNING:tensorflow:Can save best model only with val_accuarcy available, skipping.\n"
     ]
    },
    {
     "metadata": {
      "tags": null
     },
     "name": "stdout",
     "output_type": "stream",
     "text": [
      "460/460 [==============================] - 21s 46ms/step - loss: 1.4407 - accuracy: 0.4414 - val_loss: 1.2995 - val_accuracy: 0.5032\n",
      "Epoch 5/50\n",
      "459/460 [============================>.] - ETA: 0s - loss: 1.3844 - accuracy: 0.4709"
     ]
    },
    {
     "metadata": {
      "tags": null
     },
     "name": "stderr",
     "output_type": "stream",
     "text": [
      "WARNING:tensorflow:Can save best model only with val_accuarcy available, skipping.\n"
     ]
    },
    {
     "metadata": {
      "tags": null
     },
     "name": "stdout",
     "output_type": "stream",
     "text": [
      "460/460 [==============================] - 22s 48ms/step - loss: 1.3848 - accuracy: 0.4707 - val_loss: 1.3916 - val_accuracy: 0.4726\n",
      "Epoch 6/50\n",
      "459/460 [============================>.] - ETA: 0s - loss: 1.3364 - accuracy: 0.4871"
     ]
    },
    {
     "metadata": {
      "tags": null
     },
     "name": "stderr",
     "output_type": "stream",
     "text": [
      "WARNING:tensorflow:Can save best model only with val_accuarcy available, skipping.\n"
     ]
    },
    {
     "metadata": {
      "tags": null
     },
     "name": "stdout",
     "output_type": "stream",
     "text": [
      "460/460 [==============================] - 22s 48ms/step - loss: 1.3359 - accuracy: 0.4872 - val_loss: 1.2656 - val_accuracy: 0.5215\n",
      "Epoch 7/50\n",
      "459/460 [============================>.] - ETA: 0s - loss: 1.3081 - accuracy: 0.5029"
     ]
    },
    {
     "metadata": {
      "tags": null
     },
     "name": "stderr",
     "output_type": "stream",
     "text": [
      "WARNING:tensorflow:Can save best model only with val_accuarcy available, skipping.\n"
     ]
    },
    {
     "metadata": {
      "tags": null
     },
     "name": "stdout",
     "output_type": "stream",
     "text": [
      "460/460 [==============================] - 22s 49ms/step - loss: 1.3082 - accuracy: 0.5029 - val_loss: 1.3358 - val_accuracy: 0.5105\n",
      "Epoch 8/50\n",
      "459/460 [============================>.] - ETA: 0s - loss: 1.2861 - accuracy: 0.5136"
     ]
    },
    {
     "metadata": {
      "tags": null
     },
     "name": "stderr",
     "output_type": "stream",
     "text": [
      "WARNING:tensorflow:Can save best model only with val_accuarcy available, skipping.\n"
     ]
    },
    {
     "metadata": {
      "tags": null
     },
     "name": "stdout",
     "output_type": "stream",
     "text": [
      "460/460 [==============================] - 24s 51ms/step - loss: 1.2855 - accuracy: 0.5138 - val_loss: 1.3067 - val_accuracy: 0.5069\n",
      "Epoch 9/50\n",
      "460/460 [==============================] - ETA: 0s - loss: 1.2651 - accuracy: 0.5217"
     ]
    },
    {
     "metadata": {
      "tags": null
     },
     "name": "stderr",
     "output_type": "stream",
     "text": [
      "WARNING:tensorflow:Can save best model only with val_accuarcy available, skipping.\n"
     ]
    },
    {
     "metadata": {
      "tags": null
     },
     "name": "stdout",
     "output_type": "stream",
     "text": [
      "460/460 [==============================] - 23s 49ms/step - loss: 1.2651 - accuracy: 0.5217 - val_loss: 1.2267 - val_accuracy: 0.5450\n",
      "Epoch 10/50\n",
      "460/460 [==============================] - ETA: 0s - loss: 1.2525 - accuracy: 0.5241"
     ]
    },
    {
     "metadata": {
      "tags": null
     },
     "name": "stderr",
     "output_type": "stream",
     "text": [
      "WARNING:tensorflow:Can save best model only with val_accuarcy available, skipping.\n"
     ]
    },
    {
     "metadata": {
      "tags": null
     },
     "name": "stdout",
     "output_type": "stream",
     "text": [
      "460/460 [==============================] - 22s 47ms/step - loss: 1.2525 - accuracy: 0.5241 - val_loss: 1.2091 - val_accuracy: 0.5428\n",
      "Epoch 11/50\n",
      "459/460 [============================>.] - ETA: 0s - loss: 1.2300 - accuracy: 0.5358"
     ]
    },
    {
     "metadata": {
      "tags": null
     },
     "name": "stderr",
     "output_type": "stream",
     "text": [
      "WARNING:tensorflow:Can save best model only with val_accuarcy available, skipping.\n"
     ]
    },
    {
     "metadata": {
      "tags": null
     },
     "name": "stdout",
     "output_type": "stream",
     "text": [
      "460/460 [==============================] - 21s 46ms/step - loss: 1.2301 - accuracy: 0.5357 - val_loss: 1.2925 - val_accuracy: 0.5039\n",
      "Epoch 12/50\n",
      "460/460 [==============================] - ETA: 0s - loss: 1.2172 - accuracy: 0.5416"
     ]
    },
    {
     "metadata": {
      "tags": null
     },
     "name": "stderr",
     "output_type": "stream",
     "text": [
      "WARNING:tensorflow:Can save best model only with val_accuarcy available, skipping.\n"
     ]
    },
    {
     "metadata": {
      "tags": null
     },
     "name": "stdout",
     "output_type": "stream",
     "text": [
      "460/460 [==============================] - 22s 48ms/step - loss: 1.2172 - accuracy: 0.5416 - val_loss: 1.1168 - val_accuracy: 0.5769\n",
      "Epoch 13/50\n",
      "460/460 [==============================] - ETA: 0s - loss: 1.1981 - accuracy: 0.5466"
     ]
    },
    {
     "metadata": {
      "tags": null
     },
     "name": "stderr",
     "output_type": "stream",
     "text": [
      "WARNING:tensorflow:Can save best model only with val_accuarcy available, skipping.\n"
     ]
    },
    {
     "metadata": {
      "tags": null
     },
     "name": "stdout",
     "output_type": "stream",
     "text": [
      "460/460 [==============================] - 22s 48ms/step - loss: 1.1981 - accuracy: 0.5466 - val_loss: 1.1443 - val_accuracy: 0.5678\n",
      "Epoch 14/50\n",
      "460/460 [==============================] - ETA: 0s - loss: 1.1853 - accuracy: 0.5531"
     ]
    },
    {
     "metadata": {
      "tags": null
     },
     "name": "stderr",
     "output_type": "stream",
     "text": [
      "WARNING:tensorflow:Can save best model only with val_accuarcy available, skipping.\n"
     ]
    },
    {
     "metadata": {
      "tags": null
     },
     "name": "stdout",
     "output_type": "stream",
     "text": [
      "460/460 [==============================] - 22s 48ms/step - loss: 1.1853 - accuracy: 0.5531 - val_loss: 1.1599 - val_accuracy: 0.5640\n",
      "Epoch 15/50\n",
      "460/460 [==============================] - ETA: 0s - loss: 1.1739 - accuracy: 0.5592"
     ]
    },
    {
     "metadata": {
      "tags": null
     },
     "name": "stderr",
     "output_type": "stream",
     "text": [
      "WARNING:tensorflow:Can save best model only with val_accuarcy available, skipping.\n"
     ]
    },
    {
     "metadata": {
      "tags": null
     },
     "name": "stdout",
     "output_type": "stream",
     "text": [
      "460/460 [==============================] - 21s 46ms/step - loss: 1.1739 - accuracy: 0.5592 - val_loss: 1.1605 - val_accuracy: 0.5677\n",
      "Epoch 16/50\n",
      "460/460 [==============================] - ETA: 0s - loss: 1.1649 - accuracy: 0.5613"
     ]
    },
    {
     "metadata": {
      "tags": null
     },
     "name": "stderr",
     "output_type": "stream",
     "text": [
      "WARNING:tensorflow:Can save best model only with val_accuarcy available, skipping.\n"
     ]
    },
    {
     "metadata": {
      "tags": null
     },
     "name": "stdout",
     "output_type": "stream",
     "text": [
      "460/460 [==============================] - 22s 49ms/step - loss: 1.1649 - accuracy: 0.5613 - val_loss: 1.1281 - val_accuracy: 0.5764\n",
      "Epoch 17/50\n",
      "459/460 [============================>.] - ETA: 0s - loss: 1.1541 - accuracy: 0.5631"
     ]
    },
    {
     "metadata": {
      "tags": null
     },
     "name": "stderr",
     "output_type": "stream",
     "text": [
      "WARNING:tensorflow:Can save best model only with val_accuarcy available, skipping.\n"
     ]
    },
    {
     "metadata": {
      "tags": null
     },
     "name": "stdout",
     "output_type": "stream",
     "text": [
      "460/460 [==============================] - 22s 49ms/step - loss: 1.1542 - accuracy: 0.5632 - val_loss: 1.1095 - val_accuracy: 0.5802\n",
      "Epoch 18/50\n",
      "460/460 [==============================] - ETA: 0s - loss: 1.1447 - accuracy: 0.5704"
     ]
    },
    {
     "metadata": {
      "tags": null
     },
     "name": "stderr",
     "output_type": "stream",
     "text": [
      "WARNING:tensorflow:Can save best model only with val_accuarcy available, skipping.\n"
     ]
    },
    {
     "name": "stdout",
     "output_type": "stream",
     "text": [
      "\b\b\b\b\b\b\b\b\b\b\b\b\b\b\b\b\b\b\b\b\b\b\b\b\b\b\b\b\b\b\b\b\b\b\b\b\b\b\b\b\b\b\b\b\b\b\b\b\b\b\b\b\b\b\b\b\b\b\b\b\b\b\b\b\b\b\b\b\b\b\b\b\b\b\b\b\b\b\b\b\b\b\b\b\r",
      "460/460 [==============================] - 22s 49ms/step - loss: 1.1447 - accuracy: 0.5704 - val_loss: 1.0629 - val_accuracy: 0.6039\n",
      "Epoch 19/50\n",
      "459/460 [============================>.] - ETA: 0s - loss: 1.1390 - accuracy: 0.5718"
     ]
    },
    {
     "name": "stderr",
     "output_type": "stream",
     "text": [
      "WARNING:tensorflow:Can save best model only with val_accuarcy available, skipping.\n"
     ]
    },
    {
     "name": "stdout",
     "output_type": "stream",
     "text": [
      "\b\b\b\b\b\b\b\b\b\b\b\b\b\b\b\b\b\b\b\b\b\b\b\b\b\b\b\b\b\b\b\b\b\b\b\b\b\b\b\b\b\b\b\b\b\b\b\b\b\b\b\b\b\b\b\b\b\b\b\b\b\b\b\b\b\b\b\b\b\b\b\b\b\b\b\b\b\b\b\b\b\b\b\b\r",
      "460/460 [==============================] - 21s 47ms/step - loss: 1.1393 - accuracy: 0.5717 - val_loss: 1.1248 - val_accuracy: 0.5738\n",
      "Epoch 20/50\n",
      "460/460 [==============================] - ETA: 0s - loss: 1.1297 - accuracy: 0.5753"
     ]
    },
    {
     "name": "stderr",
     "output_type": "stream",
     "text": [
      "WARNING:tensorflow:Can save best model only with val_accuarcy available, skipping.\n"
     ]
    },
    {
     "name": "stdout",
     "output_type": "stream",
     "text": [
      "\b\b\b\b\b\b\b\b\b\b\b\b\b\b\b\b\b\b\b\b\b\b\b\b\b\b\b\b\b\b\b\b\b\b\b\b\b\b\b\b\b\b\b\b\b\b\b\b\b\b\b\b\b\b\b\b\b\b\b\b\b\b\b\b\b\b\b\b\b\b\b\b\b\b\b\b\b\b\b\b\b\b\b\b\r",
      "460/460 [==============================] - 22s 48ms/step - loss: 1.1297 - accuracy: 0.5753 - val_loss: 1.1012 - val_accuracy: 0.5786\n",
      "Epoch 21/50\n",
      "459/460 [============================>.] - ETA: 0s - loss: 1.1267 - accuracy: 0.5751"
     ]
    },
    {
     "name": "stderr",
     "output_type": "stream",
     "text": [
      "WARNING:tensorflow:Can save best model only with val_accuarcy available, skipping.\n"
     ]
    },
    {
     "name": "stdout",
     "output_type": "stream",
     "text": [
      "\b\b\b\b\b\b\b\b\b\b\b\b\b\b\b\b\b\b\b\b\b\b\b\b\b\b\b\b\b\b\b\b\b\b\b\b\b\b\b\b\b\b\b\b\b\b\b\b\b\b\b\b\b\b\b\b\b\b\b\b\b\b\b\b\b\b\b\b\b\b\b\b\b\b\b\b\b\b\b\b\b\b\b\b\r",
      "460/460 [==============================] - 22s 48ms/step - loss: 1.1267 - accuracy: 0.5751 - val_loss: 1.1351 - val_accuracy: 0.5785\n",
      "Epoch 22/50\n",
      "460/460 [==============================] - ETA: 0s - loss: 1.1090 - accuracy: 0.5832"
     ]
    },
    {
     "name": "stderr",
     "output_type": "stream",
     "text": [
      "WARNING:tensorflow:Can save best model only with val_accuarcy available, skipping.\n"
     ]
    },
    {
     "name": "stdout",
     "output_type": "stream",
     "text": [
      "\b\b\b\b\b\b\b\b\b\b\b\b\b\b\b\b\b\b\b\b\b\b\b\b\b\b\b\b\b\b\b\b\b\b\b\b\b\b\b\b\b\b\b\b\b\b\b\b\b\b\b\b\b\b\b\b\b\b\b\b\b\b\b\b\b\b\b\b\b\b\b\b\b\b\b\b\b\b\b\b\b\b\b\b\r",
      "460/460 [==============================] - 22s 48ms/step - loss: 1.1090 - accuracy: 0.5832 - val_loss: 1.1176 - val_accuracy: 0.5741\n",
      "Epoch 23/50\n",
      "460/460 [==============================] - ETA: 0s - loss: 1.0950 - accuracy: 0.5887"
     ]
    },
    {
     "name": "stderr",
     "output_type": "stream",
     "text": [
      "WARNING:tensorflow:Can save best model only with val_accuarcy available, skipping.\n"
     ]
    },
    {
     "name": "stdout",
     "output_type": "stream",
     "text": [
      "\b\b\b\b\b\b\b\b\b\b\b\b\b\b\b\b\b\b\b\b\b\b\b\b\b\b\b\b\b\b\b\b\b\b\b\b\b\b\b\b\b\b\b\b\b\b\b\b\b\b\b\b\b\b\b\b\b\b\b\b\b\b\b\b\b\b\b\b\b\b\b\b\b\b\b\b\b\b\b\b\b\b\b\b\r",
      "460/460 [==============================] - 22s 49ms/step - loss: 1.0950 - accuracy: 0.5887 - val_loss: 1.1685 - val_accuracy: 0.5492\n",
      "Epoch 24/50\n",
      "459/460 [============================>.] - ETA: 0s - loss: 1.0980 - accuracy: 0.5891"
     ]
    },
    {
     "name": "stderr",
     "output_type": "stream",
     "text": [
      "WARNING:tensorflow:Can save best model only with val_accuarcy available, skipping.\n"
     ]
    },
    {
     "name": "stdout",
     "output_type": "stream",
     "text": [
      "\b\b\b\b\b\b\b\b\b\b\b\b\b\b\b\b\b\b\b\b\b\b\b\b\b\b\b\b\b\b\b\b\b\b\b\b\b\b\b\b\b\b\b\b\b\b\b\b\b\b\b\b\b\b\b\b\b\b\b\b\b\b\b\b\b\b\b\b\b\b\b\b\b\b\b\b\b\b\b\b\b\b\b\b\r",
      "460/460 [==============================] - 22s 48ms/step - loss: 1.0976 - accuracy: 0.5893 - val_loss: 1.0736 - val_accuracy: 0.6002\n",
      "Epoch 25/50\n",
      "460/460 [==============================] - ETA: 0s - loss: 1.0879 - accuracy: 0.5938"
     ]
    },
    {
     "name": "stderr",
     "output_type": "stream",
     "text": [
      "WARNING:tensorflow:Can save best model only with val_accuarcy available, skipping.\n"
     ]
    },
    {
     "name": "stdout",
     "output_type": "stream",
     "text": [
      "\b\b\b\b\b\b\b\b\b\b\b\b\b\b\b\b\b\b\b\b\b\b\b\b\b\b\b\b\b\b\b\b\b\b\b\b\b\b\b\b\b\b\b\b\b\b\b\b\b\b\b\b\b\b\b\b\b\b\b\b\b\b\b\b\b\b\b\b\b\b\b\b\b\b\b\b\b\b\b\b\b\b\b\b\r",
      "460/460 [==============================] - 23s 49ms/step - loss: 1.0879 - accuracy: 0.5938 - val_loss: 1.1043 - val_accuracy: 0.5908\n",
      "Epoch 26/50\n",
      "459/460 [============================>.] - ETA: 0s - loss: 1.0827 - accuracy: 0.5946"
     ]
    },
    {
     "name": "stderr",
     "output_type": "stream",
     "text": [
      "WARNING:tensorflow:Can save best model only with val_accuarcy available, skipping.\n"
     ]
    },
    {
     "name": "stdout",
     "output_type": "stream",
     "text": [
      "\b\b\b\b\b\b\b\b\b\b\b\b\b\b\b\b\b\b\b\b\b\b\b\b\b\b\b\b\b\b\b\b\b\b\b\b\b\b\b\b\b\b\b\b\b\b\b\b\b\b\b\b\b\b\b\b\b\b\b\b\b\b\b\b\b\b\b\b\b\b\b\b\b\b\b\b\b\b\b\b\b\b\b\b\r",
      "460/460 [==============================] - 23s 49ms/step - loss: 1.0827 - accuracy: 0.5946 - val_loss: 1.1047 - val_accuracy: 0.5914\n",
      "Epoch 27/50\n",
      "459/460 [============================>.] - ETA: 0s - loss: 1.0818 - accuracy: 0.5923"
     ]
    },
    {
     "name": "stderr",
     "output_type": "stream",
     "text": [
      "WARNING:tensorflow:Can save best model only with val_accuarcy available, skipping.\n"
     ]
    },
    {
     "name": "stdout",
     "output_type": "stream",
     "text": [
      "\b\b\b\b\b\b\b\b\b\b\b\b\b\b\b\b\b\b\b\b\b\b\b\b\b\b\b\b\b\b\b\b\b\b\b\b\b\b\b\b\b\b\b\b\b\b\b\b\b\b\b\b\b\b\b\b\b\b\b\b\b\b\b\b\b\b\b\b\b\b\b\b\b\b\b\b\b\b\b\b\b\b\b\b\r",
      "460/460 [==============================] - 23s 49ms/step - loss: 1.0818 - accuracy: 0.5924 - val_loss: 1.0871 - val_accuracy: 0.5910\n",
      "Epoch 28/50\n",
      "459/460 [============================>.] - ETA: 0s - loss: 1.0711 - accuracy: 0.5982"
     ]
    },
    {
     "name": "stderr",
     "output_type": "stream",
     "text": [
      "WARNING:tensorflow:Can save best model only with val_accuarcy available, skipping.\n"
     ]
    },
    {
     "name": "stdout",
     "output_type": "stream",
     "text": [
      "\b\b\b\b\b\b\b\b\b\b\b\b\b\b\b\b\b\b\b\b\b\b\b\b\b\b\b\b\b\b\b\b\b\b\b\b\b\b\b\b\b\b\b\b\b\b\b\b\b\b\b\b\b\b\b\b\b\b\b\b\b\b\b\b\b\b\b\b\b\b\b\b\b\b\b\b\b\b\b\b\b\b\b\b\r",
      "460/460 [==============================] - 23s 51ms/step - loss: 1.0708 - accuracy: 0.5982 - val_loss: 1.0677 - val_accuracy: 0.6091\n",
      "Epoch 29/50\n",
      "460/460 [==============================] - ETA: 0s - loss: 1.0670 - accuracy: 0.5991"
     ]
    },
    {
     "name": "stderr",
     "output_type": "stream",
     "text": [
      "WARNING:tensorflow:Can save best model only with val_accuarcy available, skipping.\n"
     ]
    },
    {
     "name": "stdout",
     "output_type": "stream",
     "text": [
      "\b\b\b\b\b\b\b\b\b\b\b\b\b\b\b\b\b\b\b\b\b\b\b\b\b\b\b\b\b\b\b\b\b\b\b\b\b\b\b\b\b\b\b\b\b\b\b\b\b\b\b\b\b\b\b\b\b\b\b\b\b\b\b\b\b\b\b\b\b\b\b\b\b\b\b\b\b\b\b\b\b\b\b\b\r",
      "460/460 [==============================] - 23s 50ms/step - loss: 1.0670 - accuracy: 0.5991 - val_loss: 1.0689 - val_accuracy: 0.6020\n",
      "Epoch 30/50\n",
      "459/460 [============================>.] - ETA: 0s - loss: 1.0651 - accuracy: 0.5987"
     ]
    },
    {
     "name": "stderr",
     "output_type": "stream",
     "text": [
      "WARNING:tensorflow:Can save best model only with val_accuarcy available, skipping.\n"
     ]
    },
    {
     "name": "stdout",
     "output_type": "stream",
     "text": [
      "\b\b\b\b\b\b\b\b\b\b\b\b\b\b\b\b\b\b\b\b\b\b\b\b\b\b\b\b\b\b\b\b\b\b\b\b\b\b\b\b\b\b\b\b\b\b\b\b\b\b\b\b\b\b\b\b\b\b\b\b\b\b\b\b\b\b\b\b\b\b\b\b\b\b\b\b\b\b\b\b\b\b\b\b\r",
      "460/460 [==============================] - 23s 50ms/step - loss: 1.0650 - accuracy: 0.5988 - val_loss: 1.0273 - val_accuracy: 0.6149\n",
      "Epoch 31/50\n",
      "460/460 [==============================] - ETA: 0s - loss: 1.0570 - accuracy: 0.6024"
     ]
    },
    {
     "name": "stderr",
     "output_type": "stream",
     "text": [
      "WARNING:tensorflow:Can save best model only with val_accuarcy available, skipping.\n"
     ]
    },
    {
     "name": "stdout",
     "output_type": "stream",
     "text": [
      "\b\b\b\b\b\b\b\b\b\b\b\b\b\b\b\b\b\b\b\b\b\b\b\b\b\b\b\b\b\b\b\b\b\b\b\b\b\b\b\b\b\b\b\b\b\b\b\b\b\b\b\b\b\b\b\b\b\b\b\b\b\b\b\b\b\b\b\b\b\b\b\b\b\b\b\b\b\b\b\b\b\b\b\b\r",
      "460/460 [==============================] - 22s 48ms/step - loss: 1.0570 - accuracy: 0.6024 - val_loss: 1.0526 - val_accuracy: 0.6013\n",
      "Epoch 32/50\n",
      "460/460 [==============================] - ETA: 0s - loss: 1.0500 - accuracy: 0.6062"
     ]
    },
    {
     "name": "stderr",
     "output_type": "stream",
     "text": [
      "WARNING:tensorflow:Can save best model only with val_accuarcy available, skipping.\n"
     ]
    },
    {
     "name": "stdout",
     "output_type": "stream",
     "text": [
      "\b\b\b\b\b\b\b\b\b\b\b\b\b\b\b\b\b\b\b\b\b\b\b\b\b\b\b\b\b\b\b\b\b\b\b\b\b\b\b\b\b\b\b\b\b\b\b\b\b\b\b\b\b\b\b\b\b\b\b\b\b\b\b\b\b\b\b\b\b\b\b\b\b\b\b\b\b\b\b\b\b\b\b\b\r",
      "460/460 [==============================] - 23s 50ms/step - loss: 1.0500 - accuracy: 0.6062 - val_loss: 1.0468 - val_accuracy: 0.5968\n",
      "Epoch 33/50\n",
      "460/460 [==============================] - ETA: 0s - loss: 1.0451 - accuracy: 0.6092"
     ]
    },
    {
     "name": "stderr",
     "output_type": "stream",
     "text": [
      "WARNING:tensorflow:Can save best model only with val_accuarcy available, skipping.\n"
     ]
    },
    {
     "name": "stdout",
     "output_type": "stream",
     "text": [
      "\b\b\b\b\b\b\b\b\b\b\b\b\b\b\b\b\b\b\b\b\b\b\b\b\b\b\b\b\b\b\b\b\b\b\b\b\b\b\b\b\b\b\b\b\b\b\b\b\b\b\b\b\b\b\b\b\b\b\b\b\b\b\b\b\b\b\b\b\b\b\b\b\b\b\b\b\b\b\b\b\b\b\b\b\r",
      "460/460 [==============================] - 22s 47ms/step - loss: 1.0451 - accuracy: 0.6092 - val_loss: 1.0249 - val_accuracy: 0.6222\n",
      "Epoch 34/50\n",
      "459/460 [============================>.] - ETA: 0s - loss: 1.0469 - accuracy: 0.6085"
     ]
    },
    {
     "name": "stderr",
     "output_type": "stream",
     "text": [
      "WARNING:tensorflow:Can save best model only with val_accuarcy available, skipping.\n"
     ]
    },
    {
     "name": "stdout",
     "output_type": "stream",
     "text": [
      "\b\b\b\b\b\b\b\b\b\b\b\b\b\b\b\b\b\b\b\b\b\b\b\b\b\b\b\b\b\b\b\b\b\b\b\b\b\b\b\b\b\b\b\b\b\b\b\b\b\b\b\b\b\b\b\b\b\b\b\b\b\b\b\b\b\b\b\b\b\b\b\b\b\b\b\b\b\b\b\b\b\b\b\b\r",
      "460/460 [==============================] - 23s 50ms/step - loss: 1.0468 - accuracy: 0.6085 - val_loss: 1.0327 - val_accuracy: 0.6199\n",
      "Epoch 35/50\n",
      "459/460 [============================>.] - ETA: 0s - loss: 1.0398 - accuracy: 0.6121"
     ]
    },
    {
     "name": "stderr",
     "output_type": "stream",
     "text": [
      "WARNING:tensorflow:Can save best model only with val_accuarcy available, skipping.\n"
     ]
    },
    {
     "name": "stdout",
     "output_type": "stream",
     "text": [
      "\b\b\b\b\b\b\b\b\b\b\b\b\b\b\b\b\b\b\b\b\b\b\b\b\b\b\b\b\b\b\b\b\b\b\b\b\b\b\b\b\b\b\b\b\b\b\b\b\b\b\b\b\b\b\b\b\b\b\b\b\b\b\b\b\b\b\b\b\b\b\b\b\b\b\b\b\b\b\b\b\b\b\b\b\r",
      "460/460 [==============================] - 25s 55ms/step - loss: 1.0399 - accuracy: 0.6120 - val_loss: 1.0810 - val_accuracy: 0.6002\n",
      "Epoch 36/50\n",
      "460/460 [==============================] - ETA: 0s - loss: 1.0378 - accuracy: 0.6084"
     ]
    },
    {
     "name": "stderr",
     "output_type": "stream",
     "text": [
      "WARNING:tensorflow:Can save best model only with val_accuarcy available, skipping.\n"
     ]
    },
    {
     "name": "stdout",
     "output_type": "stream",
     "text": [
      "\b\b\b\b\b\b\b\b\b\b\b\b\b\b\b\b\b\b\b\b\b\b\b\b\b\b\b\b\b\b\b\b\b\b\b\b\b\b\b\b\b\b\b\b\b\b\b\b\b\b\b\b\b\b\b\b\b\b\b\b\b\b\b\b\b\b\b\b\b\b\b\b\b\b\b\b\b\b\b\b\b\b\b\b\r",
      "460/460 [==============================] - 21s 47ms/step - loss: 1.0378 - accuracy: 0.6084 - val_loss: 1.0628 - val_accuracy: 0.6008\n",
      "Epoch 37/50\n",
      "459/460 [============================>.] - ETA: 0s - loss: 1.0310 - accuracy: 0.6115"
     ]
    },
    {
     "name": "stderr",
     "output_type": "stream",
     "text": [
      "WARNING:tensorflow:Can save best model only with val_accuarcy available, skipping.\n"
     ]
    },
    {
     "name": "stdout",
     "output_type": "stream",
     "text": [
      "\b\b\b\b\b\b\b\b\b\b\b\b\b\b\b\b\b\b\b\b\b\b\b\b\b\b\b\b\b\b\b\b\b\b\b\b\b\b\b\b\b\b\b\b\b\b\b\b\b\b\b\b\b\b\b\b\b\b\b\b\b\b\b\b\b\b\b\b\b\b\b\b\b\b\b\b\b\b\b\b\b\b\b\b\r",
      "460/460 [==============================] - 22s 49ms/step - loss: 1.0304 - accuracy: 0.6117 - val_loss: 1.0352 - val_accuracy: 0.6130\n",
      "Epoch 38/50\n",
      "460/460 [==============================] - ETA: 0s - loss: 1.0241 - accuracy: 0.6165"
     ]
    },
    {
     "name": "stderr",
     "output_type": "stream",
     "text": [
      "WARNING:tensorflow:Can save best model only with val_accuarcy available, skipping.\n"
     ]
    },
    {
     "name": "stdout",
     "output_type": "stream",
     "text": [
      "\b\b\b\b\b\b\b\b\b\b\b\b\b\b\b\b\b\b\b\b\b\b\b\b\b\b\b\b\b\b\b\b\b\b\b\b\b\b\b\b\b\b\b\b\b\b\b\b\b\b\b\b\b\b\b\b\b\b\b\b\b\b\b\b\b\b\b\b\b\b\b\b\b\b\b\b\b\b\b\b\b\b\b\b\r",
      "460/460 [==============================] - 21s 46ms/step - loss: 1.0241 - accuracy: 0.6165 - val_loss: 1.0211 - val_accuracy: 0.6210\n",
      "Epoch 39/50\n",
      "459/460 [============================>.] - ETA: 0s - loss: 1.0259 - accuracy: 0.6167"
     ]
    },
    {
     "name": "stderr",
     "output_type": "stream",
     "text": [
      "WARNING:tensorflow:Can save best model only with val_accuarcy available, skipping.\n"
     ]
    },
    {
     "name": "stdout",
     "output_type": "stream",
     "text": [
      "\b\b\b\b\b\b\b\b\b\b\b\b\b\b\b\b\b\b\b\b\b\b\b\b\b\b\b\b\b\b\b\b\b\b\b\b\b\b\b\b\b\b\b\b\b\b\b\b\b\b\b\b\b\b\b\b\b\b\b\b\b\b\b\b\b\b\b\b\b\b\b\b\b\b\b\b\b\b\b\b\b\b\b\b\r",
      "460/460 [==============================] - 22s 49ms/step - loss: 1.0257 - accuracy: 0.6167 - val_loss: 1.0226 - val_accuracy: 0.6231\n",
      "Epoch 40/50\n",
      "459/460 [============================>.] - ETA: 0s - loss: 1.0212 - accuracy: 0.6165"
     ]
    },
    {
     "name": "stderr",
     "output_type": "stream",
     "text": [
      "WARNING:tensorflow:Can save best model only with val_accuarcy available, skipping.\n"
     ]
    },
    {
     "name": "stdout",
     "output_type": "stream",
     "text": [
      "\b\b\b\b\b\b\b\b\b\b\b\b\b\b\b\b\b\b\b\b\b\b\b\b\b\b\b\b\b\b\b\b\b\b\b\b\b\b\b\b\b\b\b\b\b\b\b\b\b\b\b\b\b\b\b\b\b\b\b\b\b\b\b\b\b\b\b\b\b\b\b\b\b\b\b\b\b\b\b\b\b\b\b\b\r",
      "460/460 [==============================] - 23s 51ms/step - loss: 1.0214 - accuracy: 0.6165 - val_loss: 1.0484 - val_accuracy: 0.6156\n",
      "Epoch 41/50\n",
      "459/460 [============================>.] - ETA: 0s - loss: 1.0206 - accuracy: 0.6123"
     ]
    },
    {
     "name": "stderr",
     "output_type": "stream",
     "text": [
      "WARNING:tensorflow:Can save best model only with val_accuarcy available, skipping.\n"
     ]
    },
    {
     "name": "stdout",
     "output_type": "stream",
     "text": [
      "\b\b\b\b\b\b\b\b\b\b\b\b\b\b\b\b\b\b\b\b\b\b\b\b\b\b\b\b\b\b\b\b\b\b\b\b\b\b\b\b\b\b\b\b\b\b\b\b\b\b\b\b\b\b\b\b\b\b\b\b\b\b\b\b\b\b\b\b\b\b\b\b\b\b\b\b\b\b\b\b\b\b\b\b\r",
      "460/460 [==============================] - 23s 49ms/step - loss: 1.0200 - accuracy: 0.6125 - val_loss: 1.0109 - val_accuracy: 0.6241\n",
      "Epoch 42/50\n",
      "460/460 [==============================] - ETA: 0s - loss: 1.0091 - accuracy: 0.6220"
     ]
    },
    {
     "name": "stderr",
     "output_type": "stream",
     "text": [
      "WARNING:tensorflow:Can save best model only with val_accuarcy available, skipping.\n"
     ]
    },
    {
     "name": "stdout",
     "output_type": "stream",
     "text": [
      "\b\b\b\b\b\b\b\b\b\b\b\b\b\b\b\b\b\b\b\b\b\b\b\b\b\b\b\b\b\b\b\b\b\b\b\b\b\b\b\b\b\b\b\b\b\b\b\b\b\b\b\b\b\b\b\b\b\b\b\b\b\b\b\b\b\b\b\b\b\b\b\b\b\b\b\b\b\b\b\b\b\b\b\b\r",
      "460/460 [==============================] - 23s 49ms/step - loss: 1.0091 - accuracy: 0.6220 - val_loss: 1.1592 - val_accuracy: 0.5654\n",
      "Epoch 43/50\n",
      "459/460 [============================>.] - ETA: 0s - loss: 1.0040 - accuracy: 0.6229"
     ]
    },
    {
     "name": "stderr",
     "output_type": "stream",
     "text": [
      "WARNING:tensorflow:Can save best model only with val_accuarcy available, skipping.\n"
     ]
    },
    {
     "name": "stdout",
     "output_type": "stream",
     "text": [
      "\b\b\b\b\b\b\b\b\b\b\b\b\b\b\b\b\b\b\b\b\b\b\b\b\b\b\b\b\b\b\b\b\b\b\b\b\b\b\b\b\b\b\b\b\b\b\b\b\b\b\b\b\b\b\b\b\b\b\b\b\b\b\b\b\b\b\b\b\b\b\b\b\b\b\b\b\b\b\b\b\b\b\b\b\r",
      "460/460 [==============================] - 22s 49ms/step - loss: 1.0044 - accuracy: 0.6226 - val_loss: 1.0374 - val_accuracy: 0.6091\n",
      "Epoch 44/50\n",
      "460/460 [==============================] - ETA: 0s - loss: 1.0108 - accuracy: 0.6238"
     ]
    },
    {
     "name": "stderr",
     "output_type": "stream",
     "text": [
      "WARNING:tensorflow:Can save best model only with val_accuarcy available, skipping.\n"
     ]
    },
    {
     "name": "stdout",
     "output_type": "stream",
     "text": [
      "\b\b\b\b\b\b\b\b\b\b\b\b\b\b\b\b\b\b\b\b\b\b\b\b\b\b\b\b\b\b\b\b\b\b\b\b\b\b\b\b\b\b\b\b\b\b\b\b\b\b\b\b\b\b\b\b\b\b\b\b\b\b\b\b\b\b\b\b\b\b\b\b\b\b\b\b\b\b\b\b\b\b\b\b\r",
      "460/460 [==============================] - 22s 49ms/step - loss: 1.0108 - accuracy: 0.6238 - val_loss: 1.0456 - val_accuracy: 0.6133\n",
      "Epoch 45/50\n",
      "459/460 [============================>.] - ETA: 0s - loss: 1.0089 - accuracy: 0.6222"
     ]
    },
    {
     "name": "stderr",
     "output_type": "stream",
     "text": [
      "WARNING:tensorflow:Can save best model only with val_accuarcy available, skipping.\n"
     ]
    },
    {
     "name": "stdout",
     "output_type": "stream",
     "text": [
      "\b\b\b\b\b\b\b\b\b\b\b\b\b\b\b\b\b\b\b\b\b\b\b\b\b\b\b\b\b\b\b\b\b\b\b\b\b\b\b\b\b\b\b\b\b\b\b\b\b\b\b\b\b\b\b\b\b\b\b\b\b\b\b\b\b\b\b\b\b\b\b\b\b\b\b\b\b\b\b\b\b\b\b\b\r",
      "460/460 [==============================] - 22s 47ms/step - loss: 1.0087 - accuracy: 0.6221 - val_loss: 1.0480 - val_accuracy: 0.6168\n",
      "Epoch 46/50\n",
      "460/460 [==============================] - ETA: 0s - loss: 1.0038 - accuracy: 0.6214"
     ]
    },
    {
     "name": "stderr",
     "output_type": "stream",
     "text": [
      "WARNING:tensorflow:Can save best model only with val_accuarcy available, skipping.\n"
     ]
    },
    {
     "name": "stdout",
     "output_type": "stream",
     "text": [
      "\b\b\b\b\b\b\b\b\b\b\b\b\b\b\b\b\b\b\b\b\b\b\b\b\b\b\b\b\b\b\b\b\b\b\b\b\b\b\b\b\b\b\b\b\b\b\b\b\b\b\b\b\b\b\b\b\b\b\b\b\b\b\b\b\b\b\b\b\b\b\b\b\b\b\b\b\b\b\b\b\b\b\b\b\r",
      "460/460 [==============================] - 22s 48ms/step - loss: 1.0038 - accuracy: 0.6214 - val_loss: 1.0357 - val_accuracy: 0.6084\n",
      "Epoch 47/50\n",
      "460/460 [==============================] - ETA: 0s - loss: 0.9993 - accuracy: 0.6249"
     ]
    },
    {
     "name": "stderr",
     "output_type": "stream",
     "text": [
      "WARNING:tensorflow:Can save best model only with val_accuarcy available, skipping.\n"
     ]
    },
    {
     "name": "stdout",
     "output_type": "stream",
     "text": [
      "\b\b\b\b\b\b\b\b\b\b\b\b\b\b\b\b\b\b\b\b\b\b\b\b\b\b\b\b\b\b\b\b\b\b\b\b\b\b\b\b\b\b\b\b\b\b\b\b\b\b\b\b\b\b\b\b\b\b\b\b\b\b\b\b\b\b\b\b\b\b\b\b\b\b\b\b\b\b\b\b\b\b\b\b\r",
      "460/460 [==============================] - 21s 45ms/step - loss: 0.9993 - accuracy: 0.6249 - val_loss: 1.0359 - val_accuracy: 0.6203\n",
      "Epoch 48/50\n",
      "459/460 [============================>.] - ETA: 0s - loss: 0.9874 - accuracy: 0.6302"
     ]
    },
    {
     "name": "stderr",
     "output_type": "stream",
     "text": [
      "WARNING:tensorflow:Can save best model only with val_accuarcy available, skipping.\n"
     ]
    },
    {
     "name": "stdout",
     "output_type": "stream",
     "text": [
      "\b\b\b\b\b\b\b\b\b\b\b\b\b\b\b\b\b\b\b\b\b\b\b\b\b\b\b\b\b\b\b\b\b\b\b\b\b\b\b\b\b\b\b\b\b\b\b\b\b\b\b\b\b\b\b\b\b\b\b\b\b\b\b\b\b\b\b\b\b\b\b\b\b\b\b\b\b\b\b\b\b\b\b\b\r",
      "460/460 [==============================] - 23s 50ms/step - loss: 0.9870 - accuracy: 0.6303 - val_loss: 1.0916 - val_accuracy: 0.6009\n",
      "Epoch 49/50\n",
      "460/460 [==============================] - ETA: 0s - loss: 0.9972 - accuracy: 0.6252"
     ]
    },
    {
     "name": "stderr",
     "output_type": "stream",
     "text": [
      "WARNING:tensorflow:Can save best model only with val_accuarcy available, skipping.\n"
     ]
    },
    {
     "name": "stdout",
     "output_type": "stream",
     "text": [
      "\b\b\b\b\b\b\b\b\b\b\b\b\b\b\b\b\b\b\b\b\b\b\b\b\b\b\b\b\b\b\b\b\b\b\b\b\b\b\b\b\b\b\b\b\b\b\b\b\b\b\b\b\b\b\b\b\b\b\b\b\b\b\b\b\b\b\b\b\b\b\b\b\b\b\b\b\b\b\b\b\b\b\b\b\r",
      "460/460 [==============================] - 22s 48ms/step - loss: 0.9972 - accuracy: 0.6252 - val_loss: 1.0396 - val_accuracy: 0.6124\n",
      "Epoch 50/50\n",
      "459/460 [============================>.] - ETA: 0s - loss: 0.9853 - accuracy: 0.6299"
     ]
    },
    {
     "name": "stderr",
     "output_type": "stream",
     "text": [
      "WARNING:tensorflow:Can save best model only with val_accuarcy available, skipping.\n"
     ]
    },
    {
     "name": "stdout",
     "output_type": "stream",
     "text": [
      "\b\b\b\b\b\b\b\b\b\b\b\b\b\b\b\b\b\b\b\b\b\b\b\b\b\b\b\b\b\b\b\b\b\b\b\b\b\b\b\b\b\b\b\b\b\b\b\b\b\b\b\b\b\b\b\b\b\b\b\b\b\b\b\b\b\b\b\b\b\b\b\b\b\b\b\b\b\b\b\b\b\b\b\b\r",
      "460/460 [==============================] - 21s 47ms/step - loss: 0.9853 - accuracy: 0.6299 - val_loss: 1.0022 - val_accuracy: 0.6306\n"
     ]
    }
   ],
   "source": [
    "fit_model = model.fit(\n",
    "    train_generator,\n",
    "    steps_per_epoch = len(train_generator),\n",
    "    batch_size=100,\n",
    "    epochs=50,\n",
    "    callbacks=[check],\n",
    "    validation_data = valid_generator,\n",
    "    validation_steps = len(valid_generator),\n",
    ")"
   ]
  },
  {
   "cell_type": "code",
   "execution_count": 11,
   "metadata": {
    "colab": {
     "base_uri": "https://localhost:8080/"
    },
    "id": "976In0yo-BfA",
    "outputId": "826d09d7-600e-4451-e010-a6385fcd4140"
   },
   "outputs": [
    {
     "name": "stdout",
     "output_type": "stream",
     "text": [
      "Model: \"sequential\"\n",
      "_________________________________________________________________\n",
      " Layer (type)                Output Shape              Param #   \n",
      "=================================================================\n",
      " conv2d (Conv2D)             (None, 23, 23, 32)        320       \n",
      "                                                                 \n",
      " batch_normalization (Batch  (None, 23, 23, 32)        128       \n",
      " Normalization)                                                  \n",
      "                                                                 \n",
      " conv2d_1 (Conv2D)           (None, 23, 23, 64)        18496     \n",
      "                                                                 \n",
      " max_pooling2d (MaxPooling2  (None, 11, 11, 64)        0         \n",
      " D)                                                              \n",
      "                                                                 \n",
      " batch_normalization_1 (Bat  (None, 11, 11, 64)        256       \n",
      " chNormalization)                                                \n",
      "                                                                 \n",
      " conv2d_2 (Conv2D)           (None, 9, 9, 128)         73856     \n",
      "                                                                 \n",
      " batch_normalization_2 (Bat  (None, 9, 9, 128)         512       \n",
      " chNormalization)                                                \n",
      "                                                                 \n",
      " conv2d_3 (Conv2D)           (None, 9, 9, 128)         147584    \n",
      "                                                                 \n",
      " max_pooling2d_1 (MaxPoolin  (None, 4, 4, 128)         0         \n",
      " g2D)                                                            \n",
      "                                                                 \n",
      " batch_normalization_3 (Bat  (None, 4, 4, 128)         512       \n",
      " chNormalization)                                                \n",
      "                                                                 \n",
      " conv2d_4 (Conv2D)           (None, 2, 2, 256)         295168    \n",
      "                                                                 \n",
      " batch_normalization_4 (Bat  (None, 2, 2, 256)         1024      \n",
      " chNormalization)                                                \n",
      "                                                                 \n",
      " conv2d_5 (Conv2D)           (None, 2, 2, 512)         1180160   \n",
      "                                                                 \n",
      " max_pooling2d_2 (MaxPoolin  (None, 1, 1, 512)         0         \n",
      " g2D)                                                            \n",
      "                                                                 \n",
      " dropout (Dropout)           (None, 1, 1, 512)         0         \n",
      "                                                                 \n",
      " flatten (Flatten)           (None, 512)               0         \n",
      "                                                                 \n",
      " batch_normalization_5 (Bat  (None, 512)               2048      \n",
      " chNormalization)                                                \n",
      "                                                                 \n",
      " dense (Dense)               (None, 700)               359100    \n",
      "                                                                 \n",
      " dense_1 (Dense)             (None, 350)               245350    \n",
      "                                                                 \n",
      " dense_2 (Dense)             (None, 70)                24570     \n",
      "                                                                 \n",
      " dense_3 (Dense)             (None, 7)                 497       \n",
      "                                                                 \n",
      "=================================================================\n",
      "Total params: 2349581 (8.96 MB)\n",
      "Trainable params: 2347341 (8.95 MB)\n",
      "Non-trainable params: 2240 (8.75 KB)\n",
      "_________________________________________________________________\n"
     ]
    }
   ],
   "source": [
    "model.summary()"
   ]
  },
  {
   "cell_type": "markdown",
   "metadata": {
    "id": "9Ygf3VTQVx4z"
   },
   "source": [
    "saving the model"
   ]
  },
  {
   "cell_type": "code",
   "execution_count": 12,
   "metadata": {
    "id": "WTFdu6obEf6n"
   },
   "outputs": [],
   "source": [
    "model.save('model.keras')"
   ]
  },
  {
   "cell_type": "markdown",
   "metadata": {
    "id": "5o1zzYy2V8pb"
   },
   "source": [
    "plotting the loss and accuracy"
   ]
  },
  {
   "cell_type": "code",
   "execution_count": 14,
   "metadata": {
    "colab": {
     "base_uri": "https://localhost:8080/",
     "height": 430
    },
    "id": "Zpy4G7T2lh17",
    "outputId": "f1080686-a291-42ec-dfd6-23a0a01752e1"
   },
   "outputs": [
    {
     "data": {
      "image/png": "[encoded data removed]",
      "text/plain": [
       "<Figure size 640x480 with 1 Axes>"
      ]
     },
     "metadata": {},
     "output_type": "display_data"
    }
   ],
   "source": [
    "train_loss = fit_model.history['loss']\n",
    "val_loss = fit_model.history['val_loss']\n",
    "epochs = range(1,len(train_loss)+1)\n",
    "plt.plot(epochs,train_loss,'bo',label='training loss')\n",
    "plt.plot(epochs,val_loss,'o',label='validation loss')\n",
    "plt.xlabel = 'epochs'\n",
    "plt.ylabel = 'loss'\n",
    "plt.legend()\n",
    "plt.show()"
   ]
  },
  {
   "cell_type": "code",
   "execution_count": 15,
   "metadata": {
    "colab": {
     "base_uri": "https://localhost:8080/",
     "height": 430
    },
    "id": "7HaSaouBmj2D",
    "outputId": "48d7f08b-a509-442f-c8b8-90b63d6ec22b"
   },
   "outputs": [
    {
     "data": {
      "image/png": "[encoded data removed]",
      "text/plain": [
       "<Figure size 640x480 with 1 Axes>"
      ]
     },
     "metadata": {},
     "output_type": "display_data"
    }
   ],
   "source": [
    "train_acc = fit_model.history['accuracy']\n",
    "val_acc = fit_model.history['val_accuracy']\n",
    "epochs = range(1,len(train_loss)+1)\n",
    "plt.plot(epochs,train_acc,'bo',label='training accuracy')\n",
    "plt.plot(epochs,val_acc,'o',label='validation accuracy')\n",
    "plt.xlabel = 'epochs'\n",
    "plt.ylabel = 'accuracy'\n",
    "plt.legend()\n",
    "plt.show()"
   ]
  },
  {
   "cell_type": "markdown",
   "metadata": {
    "id": "pJClqUcdWECd"
   },
   "source": [
    "evaluating the model on the test set"
   ]
  },
  {
   "cell_type": "code",
   "execution_count": 24,
   "metadata": {
    "id": "vFxWyeYrGmFp"
   },
   "outputs": [],
   "source": [
    "import keras"
   ]
  },
  {
   "cell_type": "code",
   "execution_count": 25,
   "metadata": {
    "id": "R0XmqRIVHDmP"
   },
   "outputs": [],
   "source": [
    "model = keras.models.load_model('FER2013/Model/model.keras')"
   ]
  },
  {
   "cell_type": "code",
   "execution_count": 26,
   "metadata": {
    "colab": {
     "base_uri": "https://localhost:8080/"
    },
    "id": "7Y99ltgICB4J",
    "outputId": "cdb8023c-ae79-40d4-8f7a-42465cf1a2c5"
   },
   "outputs": [
    {
     "name": "stdout",
     "output_type": "stream",
     "text": [
      "225/225 [==============================] - 4s 15ms/step - loss: 0.9979 - accuracy: 0.6269\n"
     ]
    },
    {
     "data": {
      "text/plain": [
       "[0.9979078769683838, 0.6269155740737915]"
      ]
     },
     "execution_count": 26,
     "metadata": {},
     "output_type": "execute_result"
    }
   ],
   "source": [
    "model.evaluate(test_generator)"
   ]
  },
  {
   "cell_type": "markdown",
   "metadata": {
    "id": "3yI_c1bqWTAS"
   },
   "source": [
    "our model reached around 63% accuracy on train and validation sets and 62.7% on test set that is in human level accuracy on this dataset and it is satisficing!"
   ]
  }
 ],
 "metadata": {
  "colab": {
   "provenance": []
  },
  "kernelspec": {
   "display_name": "Python 3 (ipykernel)",
   "language": "python",
   "name": "python3"
  },
  "language_info": {
   "codemirror_mode": {
    "name": "ipython",
    "version": 3
   },
   "file_extension": ".py",
   "mimetype": "text/x-python",
   "name": "python",
   "nbconvert_exporter": "python",
   "pygments_lexer": "ipython3",
   "version": "3.10.7"
  }
 },
 "nbformat": 4,
 "nbformat_minor": 1
}
